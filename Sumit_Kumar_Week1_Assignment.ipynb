{
  "nbformat": 4,
  "nbformat_minor": 0,
  "metadata": {
    "colab": {
      "provenance": [],
      "authorship_tag": "ABX9TyMteBs6Ye2SCMoFwN/X1X5w",
      "include_colab_link": true
    },
    "kernelspec": {
      "name": "python3",
      "display_name": "Python 3"
    },
    "language_info": {
      "name": "python"
    }
  },
  "cells": [
    {
      "cell_type": "markdown",
      "metadata": {
        "id": "view-in-github",
        "colab_type": "text"
      },
      "source": [
        "<a href=\"https://colab.research.google.com/github/Sumit22012004/Sumit_Kumar_Week1_Assignment/blob/main/Sumit_Kumar_Week1_Assignment.ipynb\" target=\"_parent\"><img src=\"https://colab.research.google.com/assets/colab-badge.svg\" alt=\"Open In Colab\"/></a>"
      ]
    },
    {
      "cell_type": "code",
      "source": [
        "# Week 1 Assignment"
      ],
      "metadata": {
        "id": "_7mXfNukrX0n"
      },
      "execution_count": 8,
      "outputs": []
    },
    {
      "cell_type": "code",
      "execution_count": 3,
      "metadata": {
        "id": "OjOcLf2sorGu"
      },
      "outputs": [],
      "source": [
        "# Question 1= Write a Python program to perform basic arithmetic operations (addition, subtraction, multiplication, division)."
      ]
    },
    {
      "cell_type": "code",
      "source": [
        "# Solution 1:\n",
        "\n",
        "# First enter the numbers that you want to perform actions with\n",
        "a= int(input(\"Enter the first number: \"))\n",
        "b= int(input(\"Enter the second number: \"))\n",
        "\n",
        "# Then we perform the addition, subtraction, multiplication and division operation on the given numbers by the user.\n",
        "print(\"Addition of two numbers: \",a+b)\n",
        "print(\"Subtraction of two numbers: \",a-b)\n",
        "print(\"Multiplication of two numbers: \",a*b)\n",
        "print(\"Division of two numbers: \",a/b)"
      ],
      "metadata": {
        "colab": {
          "base_uri": "https://localhost:8080/"
        },
        "id": "LpmEpy69pkPn",
        "outputId": "2a5576ca-e2df-415b-ce2c-d2e245369a8c"
      },
      "execution_count": 4,
      "outputs": [
        {
          "output_type": "stream",
          "name": "stdout",
          "text": [
            "Enter the first number: 5\n",
            "Enter the second number: 3\n",
            "Addition of two numbers:  8\n",
            "Subtraction of two numbers:  2\n",
            "Multiplication of two numbers:  15\n",
            "Division of two numbers:  1.6666666666666667\n"
          ]
        }
      ]
    },
    {
      "cell_type": "code",
      "source": [
        "# Question 2: Create a program that uses conditional statements to determine if a number is positive, negative, or zero."
      ],
      "metadata": {
        "id": "2zqEXvPjqJn4"
      },
      "execution_count": 5,
      "outputs": []
    },
    {
      "cell_type": "code",
      "source": [
        "# Solution 2:\n",
        "\n",
        "# First enter the number that you want to check\n",
        "a= int(input(\"Enter the number: \"))\n",
        "\n",
        "# Then we use if-elif-else conditions to check weather the number is positive, negative or 0.\n",
        "if a>0:\n",
        "    print(\"The number is positive\")\n",
        "elif a<0:\n",
        "    print(\"The number is negative\")\n",
        "else:\n",
        "    print(\"The number is zero\")"
      ],
      "metadata": {
        "colab": {
          "base_uri": "https://localhost:8080/"
        },
        "id": "XC0VNlgDqUAI",
        "outputId": "0b9990b4-0ae8-4cba-fce8-0305c024204f"
      },
      "execution_count": 6,
      "outputs": [
        {
          "output_type": "stream",
          "name": "stdout",
          "text": [
            "Enter the number: 7\n",
            "The number is positive\n"
          ]
        }
      ]
    },
    {
      "cell_type": "code",
      "source": [
        "# Question 3: Write a script that accepts user input and displays it in reverse order."
      ],
      "metadata": {
        "id": "iYh5aofJrK2C"
      },
      "execution_count": 7,
      "outputs": []
    },
    {
      "cell_type": "code",
      "source": [
        "# Solution 3:\n",
        "\n",
        "a= input(\"Enter the script: \")\n",
        "b= \"\"\n",
        "i= len(a)\n",
        "while i>0:\n",
        "    b= b+a[i-1]\n",
        "    i= i-1\n",
        "print(b)"
      ],
      "metadata": {
        "colab": {
          "base_uri": "https://localhost:8080/"
        },
        "id": "YvoJVj8PrT9H",
        "outputId": "6b326eb1-05e3-4f26-bbd2-802b688a2c31"
      },
      "execution_count": 9,
      "outputs": [
        {
          "output_type": "stream",
          "name": "stdout",
          "text": [
            "Enter the script: Week One Assignment\n",
            "tnemngissA enO keeW\n"
          ]
        }
      ]
    },
    {
      "cell_type": "code",
      "source": [],
      "metadata": {
        "id": "OJpo6xZRr1zJ"
      },
      "execution_count": null,
      "outputs": []
    }
  ]
}